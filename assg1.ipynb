{
  "nbformat": 4,
  "nbformat_minor": 0,
  "metadata": {
    "colab": {
      "name": "assg1.ipynb",
      "provenance": [],
      "collapsed_sections": [],
      "authorship_tag": "ABX9TyOfQ3gGfLTOzFzrJWbmIQEp",
      "include_colab_link": true
    },
    "kernelspec": {
      "name": "python3",
      "display_name": "Python 3"
    },
    "language_info": {
      "name": "python"
    }
  },
  "cells": [
    {
      "cell_type": "markdown",
      "metadata": {
        "id": "view-in-github",
        "colab_type": "text"
      },
      "source": [
        "<a href=\"https://colab.research.google.com/github/HimaMadhu/Assignment-1/blob/main/assg1.ipynb\" target=\"_parent\"><img src=\"https://colab.research.google.com/assets/colab-badge.svg\" alt=\"Open In Colab\"/></a>"
      ]
    },
    {
      "cell_type": "code",
      "metadata": {
        "colab": {
          "base_uri": "https://localhost:8080/"
        },
        "id": "kaH2T1M61r1c",
        "outputId": "01346adc-9d1a-411b-e8d9-afbbd0b51062"
      },
      "source": [
        "import math\n",
        "x2 = 3\n",
        "y1 = 2\n",
        "y2 = 4 \n",
        "d = 8 \n",
        "d2=d*d\n",
        "y_change2=pow((y2-y1),2)\n",
        "\n",
        "temp = d2-y_change2\n",
        "temp2 = math.sqrt(temp) \n",
        "x1 = x2 - temp2\n",
        "print('root1=',x1)\n",
        "x1= x2 + temp2 \n",
        "print('root2=',x1)\n",
        "# d^2 = squrt((x2-x1)^2 + (y2-y1)^2)"
      ],
      "execution_count": 1,
      "outputs": [
        {
          "output_type": "stream",
          "name": "stdout",
          "text": [
            "root1= -4.745966692414834\n",
            "root2= 10.745966692414834\n"
          ]
        }
      ]
    }
  ]
}